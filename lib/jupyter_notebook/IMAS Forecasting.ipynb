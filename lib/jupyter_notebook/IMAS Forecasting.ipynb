{
 "cells": [
  {
   "cell_type": "code",
   "execution_count": 292,
   "metadata": {},
   "outputs": [
    {
     "data": {
      "text/html": [
       "<div>\n",
       "<style scoped>\n",
       "    .dataframe tbody tr th:only-of-type {\n",
       "        vertical-align: middle;\n",
       "    }\n",
       "\n",
       "    .dataframe tbody tr th {\n",
       "        vertical-align: top;\n",
       "    }\n",
       "\n",
       "    .dataframe thead th {\n",
       "        text-align: right;\n",
       "    }\n",
       "</style>\n",
       "<table border=\"1\" class=\"dataframe\">\n",
       "  <thead>\n",
       "    <tr style=\"text-align: right;\">\n",
       "      <th></th>\n",
       "      <th>name</th>\n",
       "      <th>item_number</th>\n",
       "      <th>item_description</th>\n",
       "      <th>unit_of_measure</th>\n",
       "      <th>sales_quantity</th>\n",
       "    </tr>\n",
       "    <tr>\n",
       "      <th>sales_date</th>\n",
       "      <th></th>\n",
       "      <th></th>\n",
       "      <th></th>\n",
       "      <th></th>\n",
       "      <th></th>\n",
       "    </tr>\n",
       "  </thead>\n",
       "  <tbody>\n",
       "    <tr>\n",
       "      <th>2018-01-01</th>\n",
       "      <td>Costco Wholesale Corporation</td>\n",
       "      <td>CCDK100150</td>\n",
       "      <td>Original Canine 50#</td>\n",
       "      <td>Each</td>\n",
       "      <td>74470</td>\n",
       "    </tr>\n",
       "    <tr>\n",
       "      <th>2018-02-01</th>\n",
       "      <td>Costco Wholesale Corporation</td>\n",
       "      <td>CCDK100150</td>\n",
       "      <td>Original Canine 50#</td>\n",
       "      <td>Each</td>\n",
       "      <td>66490</td>\n",
       "    </tr>\n",
       "    <tr>\n",
       "      <th>2018-03-01</th>\n",
       "      <td>Costco Wholesale Corporation</td>\n",
       "      <td>CCDK100150</td>\n",
       "      <td>Original Canine 50#</td>\n",
       "      <td>Each</td>\n",
       "      <td>78730</td>\n",
       "    </tr>\n",
       "    <tr>\n",
       "      <th>2018-04-01</th>\n",
       "      <td>Costco Wholesale Corporation</td>\n",
       "      <td>CCDK100150</td>\n",
       "      <td>Original Canine 50#</td>\n",
       "      <td>Each</td>\n",
       "      <td>62120</td>\n",
       "    </tr>\n",
       "    <tr>\n",
       "      <th>2018-05-01</th>\n",
       "      <td>Costco Wholesale Corporation</td>\n",
       "      <td>CCDK100150</td>\n",
       "      <td>Original Canine 50#</td>\n",
       "      <td>Each</td>\n",
       "      <td>71420</td>\n",
       "    </tr>\n",
       "  </tbody>\n",
       "</table>\n",
       "</div>"
      ],
      "text/plain": [
       "                                    name item_number     item_description  \\\n",
       "sales_date                                                                  \n",
       "2018-01-01  Costco Wholesale Corporation  CCDK100150  Original Canine 50#   \n",
       "2018-02-01  Costco Wholesale Corporation  CCDK100150  Original Canine 50#   \n",
       "2018-03-01  Costco Wholesale Corporation  CCDK100150  Original Canine 50#   \n",
       "2018-04-01  Costco Wholesale Corporation  CCDK100150  Original Canine 50#   \n",
       "2018-05-01  Costco Wholesale Corporation  CCDK100150  Original Canine 50#   \n",
       "\n",
       "           unit_of_measure  sales_quantity  \n",
       "sales_date                                  \n",
       "2018-01-01            Each           74470  \n",
       "2018-02-01            Each           66490  \n",
       "2018-03-01            Each           78730  \n",
       "2018-04-01            Each           62120  \n",
       "2018-05-01            Each           71420  "
      ]
     },
     "execution_count": 292,
     "metadata": {},
     "output_type": "execute_result"
    }
   ],
   "source": [
    "from matplotlib import pyplot\n",
    "import numpy as np\n",
    "from pandas import DataFrame\n",
    "import pandas as pd\n",
    "import psycopg2 as pq\n",
    "from statsmodels.tsa.arima_model import ARIMA\n",
    "from statsmodels.tsa.stattools import adfuller\n",
    "import yaml\n",
    "\n",
    "\n",
    "with open(r'../../config/database.yml') as file:\n",
    "    database_connection = yaml.load(file, Loader=yaml.FullLoader)\n",
    "\n",
    "conn = pq.connect(\"dbname=\" + database_connection['development']['database'])\n",
    "cur = conn.cursor()\n",
    "cur.execute(\"\"\"\n",
    "Select\n",
    "CU.name,\n",
    "IT.item_number,\n",
    "IT.item_description,\n",
    "'Each' as unit_of_measure,\n",
    "SA.sales_date - (date_part('day', SA.sales_date) - 1)::integer as sales_date,\n",
    "sum(SA.sales_quantity * IUOM.base_conversion) as sales_quantity\n",
    "\n",
    "From\n",
    "sales SA\n",
    "  Join customers CU\n",
    "    On CU.id = SA.customer_id\n",
    "  Join items IT\n",
    "    On IT.id = SA.item_id\n",
    "  Join unit_of_measures UOM\n",
    "    On UOM.id = SA.unit_of_measure_id\n",
    "  Join item_unit_of_measures IUOM\n",
    "    On IUOM.item_id = SA.item_id and IUOM.unit_of_measure_id = SA.unit_of_measure_id\n",
    "    \n",
    "Where\n",
    "IT.item_number = 'CCDK100150'\n",
    "\n",
    "Group by\n",
    "CU.name,\n",
    "IT.item_number,\n",
    "IT.item_description,\n",
    "UOM.code,\n",
    "SA.sales_date - (date_part('day', SA.sales_date) - 1)::integer;\n",
    "\"\"\")\n",
    "\n",
    "items = cur.fetchall()\n",
    "\n",
    "col_names = []\n",
    "for header in cur.description:\n",
    "    col_names.append(header[0])\n",
    "\n",
    "cur.close()\n",
    "conn.close()\n",
    "\n",
    "data_frame = DataFrame(items, columns=col_names)\n",
    "data_frame.set_index('sales_date', inplace=True)\n",
    "data_frame.head(5)"
   ]
  },
  {
   "cell_type": "code",
   "execution_count": 293,
   "metadata": {},
   "outputs": [
    {
     "data": {
      "text/plain": [
       "[<matplotlib.lines.Line2D at 0x1c1f02f0f0>]"
      ]
     },
     "execution_count": 293,
     "metadata": {},
     "output_type": "execute_result"
    },
    {
     "data": {
      "image/png": "[encoded data removed]",
      "text/plain": [
       "<Figure size 432x288 with 1 Axes>"
      ]
     },
     "metadata": {
      "needs_background": "light"
     },
     "output_type": "display_data"
    }
   ],
   "source": [
    "pyplot.xlabel('sales_date')\n",
    "pyplot.ylabel('sales_quantity')\n",
    "pyplot.plot(data_frame[['sales_quantity']])"
   ]
  },
  {
   "cell_type": "code",
   "execution_count": 294,
   "metadata": {},
   "outputs": [
    {
     "name": "stdout",
     "output_type": "stream",
     "text": [
      "            sales_quantity\n",
      "sales_date                \n",
      "2018-01-01             NaN\n",
      "2018-02-01             NaN\n",
      "2018-03-01             NaN\n",
      "2018-04-01             NaN\n",
      "2018-05-01             NaN\n",
      "2018-06-01             NaN\n",
      "2018-07-01             NaN\n",
      "2018-08-01             NaN\n",
      "2018-09-01             NaN\n",
      "2018-10-01             NaN\n",
      "2018-11-01             NaN\n",
      "2018-12-01    67891.250000\n",
      "2019-01-01    66934.583333\n",
      "2019-02-01    67940.416667\n",
      "2019-03-01    67008.750000\n",
      "2019-04-01    68951.250000\n",
      "2019-05-01    66793.750000\n",
      "2019-06-01    67827.083333\n",
      "2019-07-01    66557.083333\n",
      "2019-08-01    67188.750000\n",
      "2019-09-01    67679.583333\n",
      "2019-10-01    66284.166667\n",
      "2019-11-01    65374.166667\n",
      "            sales_quantity\n",
      "sales_date                \n",
      "2018-01-01             NaN\n",
      "2018-02-01             NaN\n",
      "2018-03-01             NaN\n",
      "2018-04-01             NaN\n",
      "2018-05-01             NaN\n",
      "2018-06-01             NaN\n",
      "2018-07-01             NaN\n",
      "2018-08-01             NaN\n",
      "2018-09-01             NaN\n",
      "2018-10-01             NaN\n",
      "2018-11-01             NaN\n",
      "2018-12-01     8361.484243\n",
      "2019-01-01     8195.444261\n",
      "2019-02-01     8850.426918\n",
      "2019-03-01     8173.971474\n",
      "2019-04-01     9558.978674\n",
      "2019-05-01    11645.199386\n",
      "2019-06-01    11812.393426\n",
      "2019-07-01    12973.066235\n",
      "2019-08-01    12752.729142\n",
      "2019-09-01    12401.963638\n",
      "2019-10-01    11773.466670\n",
      "2019-11-01    12636.397256\n"
     ]
    }
   ],
   "source": [
    "rolmean = data_frame[['sales_quantity']].rolling(window=12).mean()\n",
    "rolstd = data_frame[['sales_quantity']].rolling(window=12).std()\n",
    "\n",
    "print(rolmean)\n",
    "print(rolstd)"
   ]
  },
  {
   "cell_type": "code",
   "execution_count": 295,
   "metadata": {},
   "outputs": [
    {
     "data": {
      "image/png": "[encoded data removed]",
      "text/plain": [
       "<Figure size 432x288 with 1 Axes>"
      ]
     },
     "metadata": {
      "needs_background": "light"
     },
     "output_type": "display_data"
    }
   ],
   "source": [
    "orig = pyplot.plot(data_frame[['sales_quantity']], color='blue', label='Original')\n",
    "mean = pyplot.plot(rolmean, color='red', label='Rolling Mean')\n",
    "std = pyplot.plot(rolstd, color='black', label='Rolling Original')\n",
    "pyplot.legend(loc='best')\n",
    "pyplot.title('Rolling Mean & Standard Deviation')\n",
    "pyplot.show(block=False)"
   ]
  },
  {
   "cell_type": "code",
   "execution_count": 296,
   "metadata": {},
   "outputs": [
    {
     "name": "stdout",
     "output_type": "stream",
     "text": [
      "Test Statistic                 -2.656770\n",
      "p-value                         0.081822\n",
      "#Lags Used                      9.000000\n",
      "Number of Observations Used    13.000000\n",
      "Critical Value (1%)            -4.068854\n",
      "Critical Value (5%)            -3.127149\n",
      "Critical Value (10%)           -2.701730\n",
      "dtype: float64\n"
     ]
    }
   ],
   "source": [
    "dftest = adfuller(data_frame['sales_quantity'], autolag='AIC')\n",
    "dfoutput = pd.Series(dftest[0:4], index=['Test Statistic', 'p-value', '#Lags Used', 'Number of Observations Used'])\n",
    "for key, value in dftest[4].items():\n",
    "    dfoutput['Critical Value (%s)'%key] = value\n",
    "print(dfoutput)"
   ]
  },
  {
   "cell_type": "code",
   "execution_count": 297,
   "metadata": {},
   "outputs": [
    {
     "data": {
      "text/plain": [
       "[<matplotlib.lines.Line2D at 0x1c1f7aa198>]"
      ]
     },
     "execution_count": 297,
     "metadata": {},
     "output_type": "execute_result"
    },
    {
     "data": {
      "image/png": "[encoded data removed]",
      "text/plain": [
       "<Figure size 432x288 with 1 Axes>"
      ]
     },
     "metadata": {
      "needs_background": "light"
     },
     "output_type": "display_data"
    }
   ],
   "source": [
    "data_frame_logScale = np.log(data_frame[['sales_quantity']])\n",
    "pyplot.plot(data_frame_logScale)"
   ]
  },
  {
   "cell_type": "code",
   "execution_count": 298,
   "metadata": {},
   "outputs": [
    {
     "data": {
      "text/plain": [
       "[<matplotlib.lines.Line2D at 0x1c1f250dd8>]"
      ]
     },
     "execution_count": 298,
     "metadata": {},
     "output_type": "execute_result"
    },
    {
     "data": {
      "image/png": "[encoded data removed]",
      "text/plain": [
       "<Figure size 432x288 with 1 Axes>"
      ]
     },
     "metadata": {
      "needs_background": "light"
     },
     "output_type": "display_data"
    }
   ],
   "source": [
    "movingAverage = data_frame_logScale.rolling(window=12).mean()\n",
    "movingSTD = data_frame_logScale.rolling(window=12).std()\n",
    "pyplot.plot(movingAverage)\n",
    "pyplot.plot(movingSTD, color='red')"
   ]
  },
  {
   "cell_type": "code",
   "execution_count": 299,
   "metadata": {},
   "outputs": [
    {
     "data": {
      "text/html": [
       "<div>\n",
       "<style scoped>\n",
       "    .dataframe tbody tr th:only-of-type {\n",
       "        vertical-align: middle;\n",
       "    }\n",
       "\n",
       "    .dataframe tbody tr th {\n",
       "        vertical-align: top;\n",
       "    }\n",
       "\n",
       "    .dataframe thead th {\n",
       "        text-align: right;\n",
       "    }\n",
       "</style>\n",
       "<table border=\"1\" class=\"dataframe\">\n",
       "  <thead>\n",
       "    <tr style=\"text-align: right;\">\n",
       "      <th></th>\n",
       "      <th>sales_quantity</th>\n",
       "    </tr>\n",
       "    <tr>\n",
       "      <th>sales_date</th>\n",
       "      <th></th>\n",
       "    </tr>\n",
       "  </thead>\n",
       "  <tbody>\n",
       "    <tr>\n",
       "      <th>2018-12-01</th>\n",
       "      <td>0.144925</td>\n",
       "    </tr>\n",
       "    <tr>\n",
       "      <th>2019-01-01</th>\n",
       "      <td>-0.054086</td>\n",
       "    </tr>\n",
       "    <tr>\n",
       "      <th>2019-02-01</th>\n",
       "      <td>0.152900</td>\n",
       "    </tr>\n",
       "    <tr>\n",
       "      <th>2019-03-01</th>\n",
       "      <td>0.014668</td>\n",
       "    </tr>\n",
       "    <tr>\n",
       "      <th>2019-04-01</th>\n",
       "      <td>0.222945</td>\n",
       "    </tr>\n",
       "    <tr>\n",
       "      <th>2019-05-01</th>\n",
       "      <td>-0.368864</td>\n",
       "    </tr>\n",
       "    <tr>\n",
       "      <th>2019-06-01</th>\n",
       "      <td>0.118575</td>\n",
       "    </tr>\n",
       "    <tr>\n",
       "      <th>2019-07-01</th>\n",
       "      <td>-0.284060</td>\n",
       "    </tr>\n",
       "    <tr>\n",
       "      <th>2019-08-01</th>\n",
       "      <td>0.008126</td>\n",
       "    </tr>\n",
       "    <tr>\n",
       "      <th>2019-09-01</th>\n",
       "      <td>-0.068736</td>\n",
       "    </tr>\n",
       "  </tbody>\n",
       "</table>\n",
       "</div>"
      ],
      "text/plain": [
       "            sales_quantity\n",
       "sales_date                \n",
       "2018-12-01        0.144925\n",
       "2019-01-01       -0.054086\n",
       "2019-02-01        0.152900\n",
       "2019-03-01        0.014668\n",
       "2019-04-01        0.222945\n",
       "2019-05-01       -0.368864\n",
       "2019-06-01        0.118575\n",
       "2019-07-01       -0.284060\n",
       "2019-08-01        0.008126\n",
       "2019-09-01       -0.068736"
      ]
     },
     "execution_count": 299,
     "metadata": {},
     "output_type": "execute_result"
    }
   ],
   "source": [
    "logScale_minus_movingAverage = data_frame_logScale - movingAverage\n",
    "logScale_minus_movingAverage.dropna(inplace=True)\n",
    "\n",
    "logScale_minus_movingAverage.head(10)"
   ]
  },
  {
   "cell_type": "code",
   "execution_count": null,
   "metadata": {},
   "outputs": [],
   "source": []
  }
 ],
 "metadata": {
  "kernelspec": {
   "display_name": "Python 3",
   "language": "python",
   "name": "python3"
  },
  "language_info": {
   "codemirror_mode": {
    "name": "ipython",
    "version": 3
   },
   "file_extension": ".py",
   "mimetype": "text/x-python",
   "name": "python",
   "nbconvert_exporter": "python",
   "pygments_lexer": "ipython3",
   "version": "3.7.3"
  }
 },
 "nbformat": 4,
 "nbformat_minor": 2
}
